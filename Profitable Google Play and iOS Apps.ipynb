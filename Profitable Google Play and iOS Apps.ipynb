{
 "cells": [
  {
   "cell_type": "markdown",
   "metadata": {},
   "source": [
    "# Profitable Google Play and iOS Apps\n",
    "\n",
    "We take a look into a sample of the current pool of apps and try to extract information that would help solve the question, what would the next profitable app be? Also, questions like, what makes a popular app, and what makes an app popular, will be explored at a high level."
   ]
  },
  {
   "cell_type": "code",
   "execution_count": 1,
   "metadata": {},
   "outputs": [],
   "source": [
    "from csv import reader\n",
    "\n",
    "def explore_data(dataset, start, end, rows_and_columns=False):\n",
    "    dataset_slice = dataset[start:end] if start > 0 else dataset[1:end + 1]\n",
    "    \n",
    "    for data in dataset_slice:\n",
    "        print(data)\n",
    "        print()\n",
    "        \n",
    "    if rows_and_columns:\n",
    "        print(f'ROWS: {len(dataset)}')\n",
    "        print(f'COLUMNS: {len(dataset[0])}')\n",
    "    \n",
    "    print('-------------------------')\n",
    "\n",
    "def list_dataset(dataset):\n",
    "    with open(dataset, encoding='utf-8') as dataset_file:\n",
    "        read_file = reader(dataset_file)\n",
    "        list_file = list(read_file)\n",
    "        return list_file"
   ]
  },
  {
   "cell_type": "markdown",
   "metadata": {},
   "source": [
    "DATASETS & DOCUMENTATION:\n",
    "- [Apple Store](https://www.kaggle.com/ramamet4/app-store-apple-data-set-10k-apps/home)\n",
    "- [Google Play Store](https://www.kaggle.com/lava18/google-play-store-apps/home)\n",
    "    \n",
    "The following imports the two datasets and converts them into a list of lists by using the previously defined method `list_dataset`. The first five data rows are then printed using the `explore_data` function. The headers(column names) are then printed for analysis.\n",
    "\n",
    "VARIABLES:\n",
    "- Apple Store dataset -> `apple_dataset`\n",
    "- Google Play dataset -> `googleplay_dataset`\n",
    "    "
   ]
  },
  {
   "cell_type": "code",
   "execution_count": 2,
   "metadata": {},
   "outputs": [
    {
     "name": "stdout",
     "output_type": "stream",
     "text": [
      "['1', '281656475', 'PAC-MAN Premium', '100788224', 'USD', '3.99', '21292', '26', '4', '4.5', '6.3.5', '4+', 'Games', '38', '5', '10', '1']\n",
      "\n",
      "['2', '281796108', 'Evernote - stay organized', '158578688', 'USD', '0', '161065', '26', '4', '3.5', '8.2.2', '4+', 'Productivity', '37', '5', '23', '1']\n",
      "\n",
      "['3', '281940292', 'WeatherBug - Local Weather, Radar, Maps, Alerts', '100524032', 'USD', '0', '188583', '2822', '3.5', '4.5', '5.0.0', '4+', 'Weather', '37', '5', '3', '1']\n",
      "\n",
      "-------------------------\n",
      "['Photo Editor & Candy Camera & Grid & ScrapBook', 'ART_AND_DESIGN', '4.1', '159', '19M', '10,000+', 'Free', '0', 'Everyone', 'Art & Design', 'January 7, 2018', '1.0.0', '4.0.3 and up']\n",
      "\n",
      "['Coloring book moana', 'ART_AND_DESIGN', '3.9', '967', '14M', '500,000+', 'Free', '0', 'Everyone', 'Art & Design;Pretend Play', 'January 15, 2018', '2.0.0', '4.0.3 and up']\n",
      "\n",
      "['U Launcher Lite – FREE Live Cool Themes, Hide Apps', 'ART_AND_DESIGN', '4.7', '87510', '8.7M', '5,000,000+', 'Free', '0', 'Everyone', 'Art & Design', 'August 1, 2018', '1.2.4', '4.0.3 and up']\n",
      "\n",
      "-------------------------\n",
      "\n",
      "\n",
      "---HEADER APPLE---\n",
      "['', 'id', 'track_name', 'size_bytes', 'currency', 'price', 'rating_count_tot', 'rating_count_ver', 'user_rating', 'user_rating_ver', 'ver', 'cont_rating', 'prime_genre', 'sup_devices.num', 'ipadSc_urls.num', 'lang.num', 'vpp_lic']\n",
      "\n",
      "\n",
      "---HEADER GOOGLE---\n",
      "['App', 'Category', 'Rating', 'Reviews', 'Size', 'Installs', 'Type', 'Price', 'Content Rating', 'Genres', 'Last Updated', 'Current Ver', 'Android Ver']\n"
     ]
    }
   ],
   "source": [
    "# should've separated the header from the dataset so I don't have to type dataset[1:] \n",
    "# in order to access the data without the headers\n",
    "\n",
    "apple_dataset = list_dataset('AppleStore.csv')\n",
    "googleplay_dataset = list_dataset('googleplaystore.csv')\n",
    "\n",
    "explore_data(apple_dataset, 0, 3)\n",
    "explore_data(googleplay_dataset, 0, 3)\n",
    "\n",
    "print('\\n')\n",
    "print('---HEADER APPLE---')\n",
    "print(apple_dataset[0])\n",
    "print('\\n')\n",
    "print('---HEADER GOOGLE---')\n",
    "print(googleplay_dataset[0])"
   ]
  },
  {
   "cell_type": "code",
   "execution_count": 3,
   "metadata": {
    "scrolled": false
   },
   "outputs": [
    {
     "name": "stdout",
     "output_type": "stream",
     "text": [
      "# DUPLICATED APPS: 1181\n",
      "# UNIQUE APPS: 9660\n",
      "\n",
      "---DUPLICATE SAMPLE ---\n",
      "Quick PDF Scanner + OCR FREE\n",
      "Box\n",
      "Google My Business\n",
      "ZOOM Cloud Meetings\n",
      "join.me - Simple Meetings\n"
     ]
    }
   ],
   "source": [
    "unique_apps = []\n",
    "duplicated_apps = []\n",
    "for data in googleplay_dataset[1:]:\n",
    "    app_name = data[0]\n",
    "    if app_name in unique_apps:\n",
    "        duplicated_apps.append(app_name)\n",
    "    else:\n",
    "        unique_apps.append(app_name)\n",
    "\n",
    "print(f'# DUPLICATED APPS: {len(duplicated_apps)}')\n",
    "print(f'# UNIQUE APPS: {len(unique_apps)}')\n",
    "print()\n",
    "\n",
    "print('---DUPLICATE SAMPLE ---')\n",
    "for duplicate in duplicated_apps[0:5]:\n",
    "    print(duplicate)\n"
   ]
  },
  {
   "cell_type": "markdown",
   "metadata": {},
   "source": [
    "Separated the google play dataset into two lists. \n",
    "- `unique_apps` stores the entry of an app the first time it appears in the google play dataset. \n",
    "- `duplicated_apps` stores all entries that have previously appeared in the dataset.\n",
    "<br/>\n",
    "<br/>\n",
    "The use of the app's name (`[0]`) was used to determine whether it appeared before or not.<br/>\n",
    "The results of this is that there are 10841 apps total, 1181 of which are duplicated so 9660 apps are unique.\n",
    "<br/>\n",
    "<br/>\n",
    "In order to remove duplicates only the duplicated app with the highest amount of reviews will be taken into account. This is based on the fact that the more reviews an app has the more recent it is.\n"
   ]
  },
  {
   "cell_type": "code",
   "execution_count": 4,
   "metadata": {},
   "outputs": [],
   "source": [
    "del googleplay_dataset[10473] # incorrect datapoint (column shift), total unique app - 9659"
   ]
  },
  {
   "cell_type": "code",
   "execution_count": 5,
   "metadata": {},
   "outputs": [],
   "source": [
    "reviews_max = {}\n",
    "for index, app in enumerate(googleplay_dataset[1:]):\n",
    "    try:\n",
    "        app_name = app[0]\n",
    "        review_count = float(app[3])\n",
    "        if app_name not in reviews_max:\n",
    "            reviews_max[app_name] = review_count\n",
    "        else:\n",
    "            reviews_max[app_name] = review_count if review_count > reviews_max[app_name] else reviews_max[app_name]\n",
    "    except:\n",
    "        print(index)"
   ]
  },
  {
   "cell_type": "code",
   "execution_count": 6,
   "metadata": {
    "scrolled": true
   },
   "outputs": [
    {
     "name": "stdout",
     "output_type": "stream",
     "text": [
      "9659\n"
     ]
    }
   ],
   "source": [
    "cleaned_google_dataset = []\n",
    "already_added = []\n",
    "\n",
    "for app in googleplay_dataset[1:]:\n",
    "    name = app[0]\n",
    "    ratings = float(app[3])\n",
    "    if name in already_added:\n",
    "        pass\n",
    "    elif ratings == reviews_max[name]:\n",
    "        cleaned_google_dataset.append(app)\n",
    "        already_added.append(name)\n",
    "\n",
    "print(len(cleaned_google_dataset))"
   ]
  },
  {
   "cell_type": "markdown",
   "metadata": {},
   "source": [
    "In order to filter the dataset for any duplicate, we first looked at whether or not that app is in the list, if not we append it to that list with the key being the app's name and the value is the number of ratings the app has. As we continue to loop through the dataset all duplicated entries will have the number of ratings that entry has and compares it to the one already in the dictionary. If the number of ratings is greater than the one already contained within the dictionary then the old value is then replaced by the new value. <br> <br>\n",
    "We then want to filter the dataset so it only contains the most recent version of the app. In order to get this filtered dataset: <br>\n",
    "\n",
    "- Loop through the initial dataset\n",
    "- For every data point we extract the name and # of ratings into the variables `name` and `ratings` respectively\n",
    "- If the app is already in the `already_added` list then nothing happends, we only want data for a single copy of the most recent version of any app\n",
    "- If the number of ratings is equal to `reviews_max[name]` we append that entire data point to the cleaned dataset list, and append that app's name to the `already_added` list.\n",
    "\n"
   ]
  },
  {
   "cell_type": "code",
   "execution_count": 7,
   "metadata": {
    "scrolled": true
   },
   "outputs": [],
   "source": [
    "def english_checker(string):\n",
    "    \"\"\"\n",
    "    returns true if all characters in the string are standard charcaters\n",
    "    used in english, otherwise return false.\n",
    "    \"\"\"\n",
    "    count = 0\n",
    "    for character in string:\n",
    "        if ord(character) > 127:\n",
    "            count += 1\n",
    "            if count >= 3:\n",
    "                    return False\n",
    "            \n",
    "    return True\n",
    "\n",
    "def filtered_data(dataset, value, filterer, filtered_list='N'):\n",
    "    if filtered_list == 'N':\n",
    "        fil_list = []\n",
    "        for datum in dataset:\n",
    "            if filterer(datum[value]):\n",
    "                fil_list.append(datum)\n",
    "        return fil_list\n",
    "    else:\n",
    "        for datum in dataset:\n",
    "            if filterer(datum[value]):\n",
    "                filtered_list.append(datum)"
   ]
  },
  {
   "cell_type": "markdown",
   "metadata": {},
   "source": [
    "Filtering dataset for english and free apps:\n",
    "    - filtered_apple -> free_filtered_apple\n",
    "    - filtered_google -> free_filtered_google\n",
    "    \n",
    "English filter - When an app has 3 or more(`english_checker` only goes to 3 before returning) then that dataset is removed from the list.\n",
    "\n",
    "Free filter - Checks to see whether the app is free or not. (price == 0)"
   ]
  },
  {
   "cell_type": "code",
   "execution_count": 8,
   "metadata": {},
   "outputs": [
    {
     "name": "stdout",
     "output_type": "stream",
     "text": [
      "6156\n",
      "9597\n"
     ]
    }
   ],
   "source": [
    "filtered_apple = []\n",
    "filtered_google = []\n",
    "\n",
    "filtered_data(cleaned_google_dataset, 0, english_checker, filtered_google)\n",
    "filtered_data(apple_dataset, 2, english_checker, filtered_apple)\n",
    "\n",
    "print(len(filtered_apple))\n",
    "print(len(filtered_google))\n"
   ]
  },
  {
   "cell_type": "code",
   "execution_count": 9,
   "metadata": {},
   "outputs": [
    {
     "name": "stdout",
     "output_type": "stream",
     "text": [
      "3203\n",
      "8848\n"
     ]
    }
   ],
   "source": [
    "free_filtered_apple = filtered_data(filtered_apple[1:], 5, lambda x: x == '0')\n",
    "free_filtered_google = filtered_data(filtered_google, 7, lambda x: x == '0')\n",
    "\n",
    "print(len(free_filtered_apple))\n",
    "print(len(free_filtered_google))"
   ]
  },
  {
   "cell_type": "markdown",
   "metadata": {},
   "source": [
    "~ Frequency table functions"
   ]
  },
  {
   "cell_type": "code",
   "execution_count": 67,
   "metadata": {},
   "outputs": [],
   "source": [
    "def freq_table(dataset, column, table):\n",
    "    for datum in dataset:\n",
    "        value = datum[column]\n",
    "        if value in table:\n",
    "            table[value] += 1\n",
    "        else:\n",
    "            table[value] = 1\n",
    "    \n",
    "    for value in table:\n",
    "        table[value] = (table[value] / len(dataset)) * 100\n",
    "    \n",
    "    return table\n",
    "\n",
    "def display_ft(dataset, column):\n",
    "    ft = freq_table(dataset, column, {})\n",
    "    table_display = [(ft[key], key) for key in ft]\n",
    "    \n",
    "    sorted_ft = sorted(table_display, reverse=True)\n",
    "    \n",
    "    for index,value in enumerate(sorted_ft):\n",
    "        print(f'{index + 1}: {sorted_ft[index][1]} | {sorted_ft[index][0]}')"
   ]
  },
  {
   "cell_type": "markdown",
   "metadata": {},
   "source": [
    "~ Frequency Tables Below"
   ]
  },
  {
   "cell_type": "code",
   "execution_count": 68,
   "metadata": {
    "scrolled": true
   },
   "outputs": [
    {
     "name": "stdout",
     "output_type": "stream",
     "text": [
      "1: Games | 58.25788323446769\n",
      "2: Entertainment | 7.836403371838902\n",
      "3: Photo & Video | 4.995316890415236\n",
      "4: Education | 3.6840462066812365\n",
      "5: Social Networking | 3.3093974399000934\n",
      "6: Shopping | 2.5913206369029034\n",
      "7: Utilities | 2.466437714642523\n",
      "8: Sports | 2.1542304089915705\n",
      "9: Music | 2.0605682172962845\n",
      "10: Health & Fitness | 2.0293474867311896\n",
      "11: Productivity | 1.7483609116453322\n",
      "12: Lifestyle | 1.5610365282547611\n",
      "13: News | 1.3424914142990947\n",
      "14: Travel | 1.248829222603809\n",
      "15: Finance | 1.0927255697783327\n",
      "16: Weather | 0.8741804558226661\n",
      "17: Food & Drink | 0.8117389946924758\n",
      "18: Reference | 0.5307524196066188\n",
      "19: Business | 0.5307524196066188\n",
      "20: Book | 0.3746487667811427\n",
      "21: Navigation | 0.18732438339057134\n",
      "22: Medical | 0.18732438339057134\n",
      "23: Catalogs | 0.1248829222603809\n"
     ]
    }
   ],
   "source": [
    "# Prime Genre Frequency Table for iOS\n",
    "display_ft(free_filtered_apple, 12)"
   ]
  },
  {
   "cell_type": "code",
   "execution_count": 69,
   "metadata": {
    "scrolled": true
   },
   "outputs": [
    {
     "name": "stdout",
     "output_type": "stream",
     "text": [
      "1: 4+ | 65.90696222291602\n",
      "2: 12+ | 17.015298157976897\n",
      "3: 9+ | 10.708710583827662\n",
      "4: 17+ | 6.369029035279425\n"
     ]
    }
   ],
   "source": [
    "# Content Rating (Age Restriction) (iOS)\n",
    "display_ft(free_filtered_apple, -6)"
   ]
  },
  {
   "cell_type": "code",
   "execution_count": 70,
   "metadata": {
    "scrolled": true
   },
   "outputs": [
    {
     "name": "stdout",
     "output_type": "stream",
     "text": [
      "1: Tools | 8.44258589511754\n",
      "2: Entertainment | 6.080470162748644\n",
      "3: Education | 5.357142857142857\n",
      "4: Business | 4.599909584086799\n",
      "5: Productivity | 3.899186256781193\n",
      "6: Lifestyle | 3.8765822784810124\n",
      "7: Finance | 3.7070524412296564\n",
      "8: Medical | 3.5375226039783\n",
      "9: Sports | 3.4584086799276674\n",
      "10: Personalization | 3.322784810126582\n",
      "11: Communication | 3.2323688969258586\n",
      "12: Action | 3.096745027124774\n",
      "13: Health & Fitness | 3.0854430379746836\n",
      "14: Photography | 2.949819168173599\n",
      "15: News & Magazines | 2.802893309222423\n",
      "16: Social | 2.667269439421338\n",
      "17: Travel & Local | 2.328209764918626\n",
      "18: Shopping | 2.2490958408679926\n",
      "19: Books & Reference | 2.1360759493670884\n",
      "20: Simulation | 2.0456600361663653\n",
      "21: Dating | 1.8648282097649187\n",
      "22: Arcade | 1.842224231464738\n",
      "23: Video Players & Editors | 1.7744122965641953\n",
      "24: Casual | 1.763110307414105\n",
      "25: Maps & Navigation | 1.3901446654611211\n",
      "26: Food & Drink | 1.2432188065099457\n",
      "27: Puzzle | 1.1301989150090417\n",
      "28: Racing | 0.9945750452079566\n",
      "29: Role Playing | 0.9380650994575045\n",
      "30: Libraries & Demo | 0.9380650994575045\n",
      "31: Auto & Vehicles | 0.9267631103074141\n",
      "32: Strategy | 0.9154611211573236\n",
      "33: House & Home | 0.8024412296564195\n",
      "34: Weather | 0.7911392405063291\n",
      "35: Events | 0.7120253164556962\n",
      "36: Adventure | 0.6668173598553345\n",
      "37: Comics | 0.599005424954792\n",
      "38: Beauty | 0.599005424954792\n",
      "39: Art & Design | 0.599005424954792\n",
      "40: Parenting | 0.4972875226039783\n",
      "41: Card | 0.45207956600361665\n",
      "42: Trivia | 0.4181735985533454\n",
      "43: Casino | 0.4181735985533454\n",
      "44: Educational;Education | 0.39556962025316456\n",
      "45: Board | 0.3842676311030741\n",
      "46: Educational | 0.3729656419529837\n",
      "47: Education;Education | 0.33905967450271246\n",
      "48: Word | 0.25994575045207957\n",
      "49: Casual;Pretend Play | 0.23734177215189875\n",
      "50: Music | 0.2034358047016275\n",
      "51: Racing;Action & Adventure | 0.16952983725135623\n",
      "52: Puzzle;Brain Games | 0.16952983725135623\n",
      "53: Entertainment;Music & Video | 0.16952983725135623\n",
      "54: Casual;Brain Games | 0.13562386980108498\n",
      "55: Casual;Action & Adventure | 0.13562386980108498\n",
      "56: Arcade;Action & Adventure | 0.12432188065099457\n",
      "57: Action;Action & Adventure | 0.10171790235081375\n",
      "58: Educational;Pretend Play | 0.09041591320072333\n",
      "59: Simulation;Action & Adventure | 0.07911392405063292\n",
      "60: Parenting;Education | 0.07911392405063292\n",
      "61: Entertainment;Brain Games | 0.07911392405063292\n",
      "62: Board;Brain Games | 0.07911392405063292\n",
      "63: Parenting;Music & Video | 0.06781193490054249\n",
      "64: Educational;Brain Games | 0.06781193490054249\n",
      "65: Casual;Creativity | 0.06781193490054249\n",
      "66: Art & Design;Creativity | 0.06781193490054249\n",
      "67: Education;Pretend Play | 0.05650994575045208\n",
      "68: Role Playing;Pretend Play | 0.045207956600361664\n",
      "69: Education;Creativity | 0.045207956600361664\n",
      "70: Role Playing;Action & Adventure | 0.033905967450271246\n",
      "71: Puzzle;Action & Adventure | 0.033905967450271246\n",
      "72: Entertainment;Creativity | 0.033905967450271246\n",
      "73: Entertainment;Action & Adventure | 0.033905967450271246\n",
      "74: Educational;Creativity | 0.033905967450271246\n",
      "75: Educational;Action & Adventure | 0.033905967450271246\n",
      "76: Education;Music & Video | 0.033905967450271246\n",
      "77: Education;Brain Games | 0.033905967450271246\n",
      "78: Education;Action & Adventure | 0.033905967450271246\n",
      "79: Adventure;Action & Adventure | 0.033905967450271246\n",
      "80: Video Players & Editors;Music & Video | 0.022603978300180832\n",
      "81: Sports;Action & Adventure | 0.022603978300180832\n",
      "82: Simulation;Pretend Play | 0.022603978300180832\n",
      "83: Puzzle;Creativity | 0.022603978300180832\n",
      "84: Music;Music & Video | 0.022603978300180832\n",
      "85: Entertainment;Pretend Play | 0.022603978300180832\n",
      "86: Casual;Education | 0.022603978300180832\n",
      "87: Board;Action & Adventure | 0.022603978300180832\n",
      "88: Video Players & Editors;Creativity | 0.011301989150090416\n",
      "89: Trivia;Education | 0.011301989150090416\n",
      "90: Travel & Local;Action & Adventure | 0.011301989150090416\n",
      "91: Tools;Education | 0.011301989150090416\n",
      "92: Strategy;Education | 0.011301989150090416\n",
      "93: Strategy;Creativity | 0.011301989150090416\n",
      "94: Strategy;Action & Adventure | 0.011301989150090416\n",
      "95: Simulation;Education | 0.011301989150090416\n",
      "96: Role Playing;Brain Games | 0.011301989150090416\n",
      "97: Racing;Pretend Play | 0.011301989150090416\n",
      "98: Puzzle;Education | 0.011301989150090416\n",
      "99: Parenting;Brain Games | 0.011301989150090416\n",
      "100: Music & Audio;Music & Video | 0.011301989150090416\n",
      "101: Lifestyle;Pretend Play | 0.011301989150090416\n",
      "102: Lifestyle;Education | 0.011301989150090416\n",
      "103: Health & Fitness;Education | 0.011301989150090416\n",
      "104: Health & Fitness;Action & Adventure | 0.011301989150090416\n",
      "105: Entertainment;Education | 0.011301989150090416\n",
      "106: Communication;Creativity | 0.011301989150090416\n",
      "107: Comics;Creativity | 0.011301989150090416\n",
      "108: Casual;Music & Video | 0.011301989150090416\n",
      "109: Card;Action & Adventure | 0.011301989150090416\n",
      "110: Books & Reference;Education | 0.011301989150090416\n",
      "111: Art & Design;Pretend Play | 0.011301989150090416\n",
      "112: Art & Design;Action & Adventure | 0.011301989150090416\n",
      "113: Arcade;Pretend Play | 0.011301989150090416\n",
      "114: Adventure;Education | 0.011301989150090416\n"
     ]
    }
   ],
   "source": [
    "# Genres (Google Play)\n",
    "display_ft(free_filtered_google, 9)"
   ]
  },
  {
   "cell_type": "markdown",
   "metadata": {},
   "source": [
    "EX"
   ]
  }
 ],
 "metadata": {
  "kernelspec": {
   "display_name": "Python 3",
   "language": "python",
   "name": "python3"
  },
  "language_info": {
   "codemirror_mode": {
    "name": "ipython",
    "version": 3
   },
   "file_extension": ".py",
   "mimetype": "text/x-python",
   "name": "python",
   "nbconvert_exporter": "python",
   "pygments_lexer": "ipython3",
   "version": "3.7.3"
  }
 },
 "nbformat": 4,
 "nbformat_minor": 2
}
